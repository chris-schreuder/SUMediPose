{
 "cells": [
  {
   "cell_type": "code",
   "execution_count": null,
   "metadata": {},
   "outputs": [],
   "source": [
    "from sumedipose_utils import *\n",
    "import numpy as np\n",
    "import json"
   ]
  },
  {
   "cell_type": "code",
   "execution_count": null,
   "metadata": {},
   "outputs": [],
   "source": [
    "subject = 'subject'\n",
    "main = 1\n",
    "pair1 = 2\n",
    "pair2 = 3\n",
    "path_3d = 'path/of/3d/data.json'\n",
    "cal_path_pair1 = 'path/of/calibration/data.npz'\n",
    "cal_path_pair2 = 'path/of/calibration/data.npz'\n",
    "wand_path = 'markers_points.json'"
   ]
  },
  {
   "cell_type": "code",
   "execution_count": null,
   "metadata": {},
   "outputs": [],
   "source": [
    "with open(wand_path, 'r') as f:\n",
    "    markers = json.load(f)\n",
    "keys = list(markers.keys())\n",
    "subject_nums = [int(key.replace('S', '')) for key in keys if 'points' in markers[key]['C1']]\n",
    "subject_nums = sorted(subject_nums)\n",
    "map_nums = {}\n",
    "cur_num = 1\n",
    "for i in range(1,29):\n",
    "    if i in subject_nums:\n",
    "        cur_num = i\n",
    "    map_nums[f'S{i}'] = f'S{cur_num}'"
   ]
  },
  {
   "cell_type": "code",
   "execution_count": null,
   "metadata": {},
   "outputs": [],
   "source": [
    "with open(path_3d, 'r') as f:\n",
    "    data_3d = json.load(f)\n",
    "\n",
    "cal_size = 60\n",
    "index_3d = 0\n",
    "\n",
    "frame = data_3d[index_3d]\n",
    "xyz = frame['xyz']\n",
    "xyz_wand = frame['xyz_wand']\n",
    "point_ids = frame['point_ids']\n",
    "points_skel = np.array(xyz)\n",
    "\n",
    "wcs_skel = []\n",
    "wcs_skel.append(points_skel)\n",
    "wcs_skel = np.array(wcs_skel)\n",
    "wcs_skel = wcs_skel.reshape(wcs_skel.shape[1], wcs_skel.shape[2])\n",
    "wcs_skel[:, 0] = wcs_skel[:, 0]/cal_size\n",
    "wcs_skel[:, 1] = wcs_skel[:, 1]/cal_size\n",
    "wcs_skel[:, 2] = wcs_skel[:, 2]/cal_size\n",
    "\n",
    "# wcs_skel = np.array(points_skel).reshape(len(points_skel), -1)\n",
    "# wcs_skel[:, :3] /= cal_size\n",
    "\n",
    "wcs_wand = []\n",
    "wcs_wand.append(xyz_wand)\n",
    "wcs_wand = np.array(wcs_wand)\n",
    "wcs_wand = wcs_wand.reshape(wcs_wand.shape[1], wcs_wand.shape[2])\n",
    "wcs_wand[:, 0] = wcs_wand[:, 0]/cal_size\n",
    "wcs_wand[:, 1] = wcs_wand[:, 1]/cal_size\n",
    "wcs_wand[:, 2] = wcs_wand[:, 2]/cal_size"
   ]
  },
  {
   "cell_type": "code",
   "execution_count": null,
   "metadata": {},
   "outputs": [],
   "source": [
    "data_pair1 = np.load(cal_path_pair1)\n",
    "data_pair2 = np.load(cal_path_pair2)\n",
    "\n",
    "R1 = np.eye(3)  \n",
    "T1 = np.array([0, 0, 0])  \n",
    "R2 = data_pair1['R']\n",
    "T2 = data_pair1['T']\n",
    "T2 = np.array([T2[0][0], T2[1][0], T2[2][0]]).reshape((3,1))\n",
    "R3 = data_pair2['R']\n",
    "T3 = data_pair2['T']\n",
    "T3 = np.array([T3[0][0], T3[1][0], T3[2][0]]).reshape((3,1))\n",
    "\n",
    "R1_initial = R1.copy()\n",
    "T1_initial = T1.reshape((3,1)).copy()\n",
    "R2_initial = R2.copy()\n",
    "T2_initial = T2.reshape((3,1)).copy()\n",
    "R3_initial = R3.copy()\n",
    "T3_initial = T3.reshape((3,1)).copy()\n",
    "\n",
    "cameraMatrix1 = data_pair1['mtx_A']\n",
    "cameraMatrix2 = data_pair1['mtx_B']\n",
    "cameraMatrix3 = data_pair2['mtx_B']\n",
    "\n",
    "RT1 = np.concatenate([R1, [[0],[0],[0]]], axis = -1)\n",
    "P1 = cameraMatrix1 @ RT1\n",
    "RT2 = np.concatenate([R2, T2], axis = -1)\n",
    "P2 = cameraMatrix2 @ RT2\n",
    "RT3 = np.concatenate([R3, T3], axis = -1)\n",
    "P3 = cameraMatrix3 @ RT3\n",
    "\n",
    "Ps = [P1, P2, P3]\n"
   ]
  },
  {
   "cell_type": "code",
   "execution_count": null,
   "metadata": {},
   "outputs": [],
   "source": [
    "all_cam_points = [\n",
    "    markers[map_nums[subject]][f'C{main}']['points'],\n",
    "    markers[map_nums[subject]][f'C{pair1}']['points'],\n",
    "    markers[map_nums[subject]][f'C{pair2}']['points']\n",
    "]\n",
    "\n",
    "points = np.array(DLT_2_cameras(all_cam_points[0], all_cam_points[1], Ps[0], Ps[1]))\n",
    "# OR\n",
    "points = np.array(DLT_3_cameras(all_cam_points[0], all_cam_points[1], all_cam_points[2], Ps[0], Ps[1], Ps[2]))"
   ]
  },
  {
   "cell_type": "code",
   "execution_count": null,
   "metadata": {},
   "outputs": [],
   "source": [
    "x_direction = points[1] - points[0] \n",
    "z_direction = points[3] - points[1]  \n",
    "x_direction /= np.linalg.norm(x_direction)\n",
    "z_direction /= np.linalg.norm(z_direction)\n",
    "y_direction = np.cross(x_direction, z_direction)\n",
    "\n",
    "R_wcs = np.column_stack((x_direction, y_direction, z_direction))\n",
    "M = np.column_stack((R_wcs, points[1]))\n",
    "M = np.row_stack((M, np.array([0, 0, 0, 1])))\n",
    "M_inv = np.linalg.inv(M)"
   ]
  },
  {
   "cell_type": "code",
   "execution_count": null,
   "metadata": {},
   "outputs": [],
   "source": [
    "c1_wand = np.array([projectInternal(M, p) for p in wcs_wand])\n",
    "c1_skel = np.array([projectInternal(M, p) for p in wcs_skel])"
   ]
  },
  {
   "cell_type": "code",
   "execution_count": null,
   "metadata": {},
   "outputs": [],
   "source": [
    "order = [1, 0, 2, 3, 4] \n",
    "c1_wand = c1_wand[order, :]\n",
    "diff = points - c1_wand\n",
    "y_avg_wand = np.mean(c1_wand[:, 1])\n",
    "y_avg_points = np.mean(points[:, 1])\n",
    "y_diff = y_avg_points - y_avg_wand\n",
    "x_avg_wand = np.mean(c1_wand[:, 0])\n",
    "x_avg_points = np.mean(points[:, 0])\n",
    "x_diff = x_avg_points - x_avg_wand\n",
    "z_avg_wand = np.mean(c1_wand[:, 2])\n",
    "z_avg_points = np.mean(points[:, 2])\n",
    "z_diff = z_avg_points - z_avg_wand\n",
    "\n",
    "c1_wand[:, 1] += y_diff\n",
    "c1_skel[:, 1] += y_diff\n",
    "c1_wand[:, 0] += x_diff\n",
    "c1_skel[:, 0] += x_diff\n",
    "c1_wand[:, 2] += z_diff\n",
    "c1_skel[:, 2] += z_diff"
   ]
  },
  {
   "cell_type": "code",
   "execution_count": null,
   "metadata": {},
   "outputs": [],
   "source": [
    "Mint_1 = cameraMatrix1\n",
    "\n",
    "points_c1_2d = np.array([projectPixel(Mint_1, p) for p in points])\n",
    "c1_pixel_skel = np.array([projectPixel(Mint_1, p) for p in c1_skel])\n",
    "c1_pixel_wand = np.array([projectPixel(Mint_1, p) for p in c1_wand])"
   ]
  },
  {
   "cell_type": "code",
   "execution_count": null,
   "metadata": {},
   "outputs": [],
   "source": [
    "R = R2_initial\n",
    "t = T2_initial\n",
    "Mint_2 = cameraMatrix2\n",
    "\n",
    "points_internal_c2 = np.array([projectInternal(R, t, p) for p in points])\n",
    "c2_3d_skel = np.array([projectInternal(R, t, p) for p in c1_skel])   \n",
    "c2_3d_wand = np.array([projectInternal(R, t, p) for p in c1_wand])\n",
    "\n",
    "points_pixel_c2 = np.array([projectPixel(Mint_2, p) for p in points_internal_c2])\n",
    "c2_pixel_skel = np.array([projectPixel(Mint_2, p) for p in c2_3d_skel]) \n",
    "c2_pixel_wand = np.array([projectPixel(Mint_2, p) for p in c2_3d_wand])"
   ]
  },
  {
   "cell_type": "code",
   "execution_count": null,
   "metadata": {},
   "outputs": [],
   "source": [
    "R = R3_initial\n",
    "t = T3_initial\n",
    "Mint_3 = cameraMatrix3\n",
    "\n",
    "points_internal_c3 = np.array([projectInternal(R, t, p) for p in points])\n",
    "c3_3d_skel = np.array([projectInternal(R, t, p) for p in c1_skel])   \n",
    "c3_3d_wand = np.array([projectInternal(R, t, p) for p in c1_wand])\n",
    "\n",
    "points_pixel_c3 = np.array([projectPixel(Mint_3, p) for p in points_internal_c3])\n",
    "c3_pixel_skel = np.array([projectPixel(Mint_3, p) for p in c3_3d_skel]) \n",
    "c3_pixel_wand = np.array([projectPixel(Mint_3, p) for p in c3_3d_wand])"
   ]
  }
 ],
 "metadata": {
  "language_info": {
   "name": "python"
  }
 },
 "nbformat": 4,
 "nbformat_minor": 2
}
