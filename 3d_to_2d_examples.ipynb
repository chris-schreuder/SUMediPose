{
 "cells": [
  {
   "cell_type": "markdown",
   "metadata": {},
   "source": [
    "## Imports"
   ]
  },
  {
   "cell_type": "code",
   "execution_count": null,
   "metadata": {},
   "outputs": [],
   "source": [
    "from sumedipose_utils import *\n",
    "import numpy as np\n",
    "import json\n",
    "import pandas as pd"
   ]
  },
  {
   "cell_type": "markdown",
   "metadata": {},
   "source": [
    "## Set variables"
   ]
  },
  {
   "cell_type": "code",
   "execution_count": null,
   "metadata": {},
   "outputs": [],
   "source": [
    "subject = 'S1' # You can choose any subject\n",
    "action = 'A1' # You can choose any action\n",
    "speed = 'D1' # You can choose any speed\n",
    "main = 1 # Choose between 1 and 6\n",
    "pair1 = 2 # Choose 2 if main is 1, choose 4 if main is 6\n",
    "pair2 = 3 # Choose 3 if main is 1, choose 5 if main is 6\n",
    "root_path = 'root/path/to/data/' # change this to the path where the data is stored\n",
    "path_3d = f'{root_path}WCS/{subject}/{subject}{action}{speed}.json'\n",
    "cal_path = f'{root_path}calibration/external_calibration.csv' # path to calibration file\n",
    "wand_path = f'{root_path}markers_points.json' # path to wand points file\n",
    "cal_size = 60 # size of the calibration grid\n",
    "index = 0 # Choose any index you want to visualize or use"
   ]
  },
  {
   "cell_type": "markdown",
   "metadata": {},
   "source": [
    "## Map subjects to camera matrices\n",
    "The same matrices are used for all the subjects captured within one day and the day is labbled by the first subject captured. This mapping maps all the subjects within the day to the first subject to identify the correct parameters to use."
   ]
  },
  {
   "cell_type": "code",
   "execution_count": null,
   "metadata": {},
   "outputs": [],
   "source": [
    "df_cam_matrix = pd.read_csv(cal_path)\n",
    "\n",
    "matrix_subjects = df_cam_matrix['subject'].unique().tolist()\n",
    "matrix_subjects = sorted(matrix_subjects)\n",
    "matrix_subjects = [int(subj.replace('S', '')) for subj in matrix_subjects]\n",
    "map_matrix = {}\n",
    "cur_num = 1\n",
    "for i in range(1,29):\n",
    "    if i in matrix_subjects:\n",
    "        cur_num = i\n",
    "    map_matrix[f'S{i}'] = f'S{cur_num}'"
   ]
  },
  {
   "cell_type": "markdown",
   "metadata": {},
   "source": [
    "## Load camera matrices for specific subject\n",
    "You can choose to load both stereo pairs or just one"
   ]
  },
  {
   "cell_type": "code",
   "execution_count": null,
   "metadata": {},
   "outputs": [],
   "source": [
    "cal_path_pair1 = df_cam_matrix[(df_cam_matrix['main'] == main) & (df_cam_matrix['pair'] == pair1) & (df_cam_matrix['subject'] == map_matrix[subject])]['path'].values[0]\n",
    "cal_path_pair2 = df_cam_matrix[(df_cam_matrix['main'] == main) & (df_cam_matrix['pair'] == pair2) & (df_cam_matrix['subject'] == map_matrix[subject])]['path'].values[0]"
   ]
  },
  {
   "cell_type": "markdown",
   "metadata": {},
   "source": [
    "## Map subjects to wand annotations\n",
    "Each time the Vicon system (marker-based motion capture system) was callibrated, the wand position was captured by all camera views and annotated. This map links all subjects to the last wand marker annotations captured."
   ]
  },
  {
   "cell_type": "code",
   "execution_count": null,
   "metadata": {},
   "outputs": [],
   "source": [
    "with open(wand_path, 'r') as f:\n",
    "    markers = json.load(f)\n",
    "keys = list(markers.keys())\n",
    "subject_nums = [int(key.replace('S', '')) for key in keys if 'points' in markers[key]['C1']]\n",
    "subject_nums = sorted(subject_nums)\n",
    "map_nums = {}\n",
    "cur_num = 1\n",
    "for i in range(1,29):\n",
    "    if i in subject_nums:\n",
    "        cur_num = i\n",
    "    map_nums[f'S{i}'] = f'S{cur_num}'"
   ]
  },
  {
   "cell_type": "markdown",
   "metadata": {},
   "source": [
    "## Load and scale 3D WCS data\n",
    "WCS is in mm, to it needs to be scaled by the callibration board's checker size.\n",
    "- xyz: 3D coordinates of the human keypoints\n",
    "- xyz_wand: 3D coordinates of the wand\n",
    "- point_ids: list of keypoint ids"
   ]
  },
  {
   "cell_type": "code",
   "execution_count": null,
   "metadata": {},
   "outputs": [],
   "source": [
    "with open(path_3d, 'r') as f:\n",
    "    data_3d = json.load(f)\n",
    "\n",
    "frame = data_3d[index]\n",
    "xyz = frame['xyz']\n",
    "xyz_wand = frame['xyz_wand']\n",
    "point_ids = frame['point_ids']\n",
    "points_skel = np.array(xyz)\n",
    "\n",
    "wcs_skel = []\n",
    "wcs_skel.append(points_skel)\n",
    "wcs_skel = np.array(wcs_skel)\n",
    "wcs_skel = wcs_skel.reshape(wcs_skel.shape[1], wcs_skel.shape[2])\n",
    "wcs_skel[:, 0] = wcs_skel[:, 0]/cal_size\n",
    "wcs_skel[:, 1] = wcs_skel[:, 1]/cal_size\n",
    "wcs_skel[:, 2] = wcs_skel[:, 2]/cal_size\n",
    "\n",
    "# wcs_skel = np.array(points_skel).reshape(len(points_skel), -1)\n",
    "# wcs_skel[:, :3] /= cal_size\n",
    "\n",
    "wcs_wand = []\n",
    "wcs_wand.append(xyz_wand)\n",
    "wcs_wand = np.array(wcs_wand)\n",
    "wcs_wand = wcs_wand.reshape(wcs_wand.shape[1], wcs_wand.shape[2])\n",
    "wcs_wand[:, 0] = wcs_wand[:, 0]/cal_size\n",
    "wcs_wand[:, 1] = wcs_wand[:, 1]/cal_size\n",
    "wcs_wand[:, 2] = wcs_wand[:, 2]/cal_size"
   ]
  },
  {
   "cell_type": "markdown",
   "metadata": {},
   "source": [
    "## Load stereo calibration pairs camera matrices\n",
    "1. Load data\n",
    "2. Extract rotation matrix, R, and translation vector, t\n",
    "3. Calculate each camera's projection matrix, P\n",
    "\n",
    "Note: Origin/main camera will always be origin/0-values"
   ]
  },
  {
   "cell_type": "code",
   "execution_count": null,
   "metadata": {},
   "outputs": [],
   "source": [
    "data_pair1 = np.load(cal_path_pair1)\n",
    "data_pair2 = np.load(cal_path_pair2)\n",
    "\n",
    "R1 = np.eye(3)  \n",
    "T1 = np.array([0, 0, 0])  \n",
    "R2 = data_pair1['R']\n",
    "T2 = data_pair1['T']\n",
    "T2 = np.array([T2[0][0], T2[1][0], T2[2][0]]).reshape((3,1))\n",
    "R3 = data_pair2['R']\n",
    "T3 = data_pair2['T']\n",
    "T3 = np.array([T3[0][0], T3[1][0], T3[2][0]]).reshape((3,1))\n",
    "\n",
    "R1_initial = R1.copy()\n",
    "T1_initial = T1.reshape((3,1)).copy()\n",
    "R2_initial = R2.copy()\n",
    "T2_initial = T2.reshape((3,1)).copy()\n",
    "R3_initial = R3.copy()\n",
    "T3_initial = T3.reshape((3,1)).copy()\n",
    "\n",
    "cameraMatrix1 = data_pair1['mtx_A']\n",
    "cameraMatrix2 = data_pair1['mtx_B']\n",
    "cameraMatrix3 = data_pair2['mtx_B']\n",
    "\n",
    "RT1 = np.concatenate([R1, [[0],[0],[0]]], axis = -1)\n",
    "P1 = cameraMatrix1 @ RT1\n",
    "RT2 = np.concatenate([R2, T2], axis = -1)\n",
    "P2 = cameraMatrix2 @ RT2\n",
    "RT3 = np.concatenate([R3, T3], axis = -1)\n",
    "P3 = cameraMatrix3 @ RT3\n",
    "\n",
    "Ps = [P1, P2, P3]\n"
   ]
  },
  {
   "cell_type": "markdown",
   "metadata": {},
   "source": [
    "## Load and project 2D wand to 3D\n",
    "- The wand serves as an anchor between the WCS and the CCS\n",
    "- The wand is the origin point and x-, y-, and z-directions of the WCS\n",
    "- For each camera, the wand markers were manually annotated on the images\n",
    "- You must project the wand from 2 or 3 camera views into the main/origin camera's 3D CCS"
   ]
  },
  {
   "cell_type": "code",
   "execution_count": null,
   "metadata": {},
   "outputs": [],
   "source": [
    "all_cam_points = [\n",
    "    markers[map_nums[subject]][f'C{main}']['points'],\n",
    "    markers[map_nums[subject]][f'C{pair1}']['points'],\n",
    "    markers[map_nums[subject]][f'C{pair2}']['points']\n",
    "]\n",
    "\n",
    "points = np.array(DLT_2_cameras(all_cam_points[0], all_cam_points[1], Ps[0], Ps[1]))\n",
    "# OR\n",
    "points = np.array(DLT_3_cameras(all_cam_points[0], all_cam_points[1], all_cam_points[2], Ps[0], Ps[1], Ps[2]))"
   ]
  },
  {
   "cell_type": "markdown",
   "metadata": {},
   "source": [
    "## Calculate rotation and translation of WCS in CCS\n",
    "- Calculate the x-, y-, and z-direction vectors of the WCS within the CCS\n",
    "- Generate rotation matrix of WCS within CCS\n",
    "- Set the translation vector of WCS within CCS as the middle point of the wand\n",
    "- Generate camera matrux M used in projecting points in WCS to CCS"
   ]
  },
  {
   "cell_type": "code",
   "execution_count": null,
   "metadata": {},
   "outputs": [],
   "source": [
    "x_direction = points[1] - points[0] \n",
    "z_direction = points[3] - points[1]  \n",
    "x_direction /= np.linalg.norm(x_direction)\n",
    "z_direction /= np.linalg.norm(z_direction)\n",
    "y_direction = np.cross(x_direction, z_direction)\n",
    "\n",
    "R_wcs = np.column_stack((x_direction, y_direction, z_direction))\n",
    "M = np.column_stack((R_wcs, points[1]))\n",
    "M = np.row_stack((M, np.array([0, 0, 0, 1])))\n",
    "M_inv = np.linalg.inv(M)"
   ]
  },
  {
   "cell_type": "markdown",
   "metadata": {},
   "source": [
    "## Project points from WCS to CCS"
   ]
  },
  {
   "cell_type": "code",
   "execution_count": null,
   "metadata": {},
   "outputs": [],
   "source": [
    "c1_wand = np.array([projectInternal(M, p) for p in wcs_wand])\n",
    "c1_skel = np.array([projectInternal(M, p) for p in wcs_skel])"
   ]
  },
  {
   "cell_type": "markdown",
   "metadata": {},
   "source": [
    "## Correct projections\n",
    "The WCS is linked to the wand, but the wand is a small ammount above the ground and needs to be aligned with the wand in the CCS"
   ]
  },
  {
   "cell_type": "code",
   "execution_count": null,
   "metadata": {},
   "outputs": [],
   "source": [
    "order = [1, 0, 2, 3, 4] \n",
    "c1_wand = c1_wand[order, :]\n",
    "diff = points - c1_wand\n",
    "y_avg_wand = np.mean(c1_wand[:, 1])\n",
    "y_avg_points = np.mean(points[:, 1])\n",
    "y_diff = y_avg_points - y_avg_wand\n",
    "x_avg_wand = np.mean(c1_wand[:, 0])\n",
    "x_avg_points = np.mean(points[:, 0])\n",
    "x_diff = x_avg_points - x_avg_wand\n",
    "z_avg_wand = np.mean(c1_wand[:, 2])\n",
    "z_avg_points = np.mean(points[:, 2])\n",
    "z_diff = z_avg_points - z_avg_wand\n",
    "\n",
    "c1_wand[:, 1] += y_diff\n",
    "c1_skel[:, 1] += y_diff\n",
    "c1_wand[:, 0] += x_diff\n",
    "c1_skel[:, 0] += x_diff\n",
    "c1_wand[:, 2] += z_diff\n",
    "c1_skel[:, 2] += z_diff"
   ]
  },
  {
   "cell_type": "markdown",
   "metadata": {},
   "source": [
    "## Project main/origin camera 3D points to 2D pixels"
   ]
  },
  {
   "cell_type": "code",
   "execution_count": null,
   "metadata": {},
   "outputs": [],
   "source": [
    "Mint_1 = cameraMatrix1\n",
    "\n",
    "points_c1_2d = np.array([projectPixel(Mint_1, p) for p in points])\n",
    "c1_pixel_skel = np.array([projectPixel(Mint_1, p) for p in c1_skel])\n",
    "c1_pixel_wand = np.array([projectPixel(Mint_1, p) for p in c1_wand])"
   ]
  },
  {
   "cell_type": "markdown",
   "metadata": {},
   "source": [
    "## Project 3D main/origin -> 3D pair -> 2D pair pixel \n",
    "1. First project from main/origin camera CCS to the selected pair camera's CCS (both 3D)\n",
    "2. Project 3D points in selected pair camera's CCS onto the 2D pixel plane"
   ]
  },
  {
   "cell_type": "code",
   "execution_count": null,
   "metadata": {},
   "outputs": [],
   "source": [
    "R = R2_initial\n",
    "t = T2_initial\n",
    "Mint_2 = cameraMatrix2\n",
    "\n",
    "points_internal_c2 = np.array([projectInternal(R, t, p) for p in points])\n",
    "c2_3d_skel = np.array([projectInternal(R, t, p) for p in c1_skel])   \n",
    "c2_3d_wand = np.array([projectInternal(R, t, p) for p in c1_wand])\n",
    "\n",
    "points_pixel_c2 = np.array([projectPixel(Mint_2, p) for p in points_internal_c2])\n",
    "c2_pixel_skel = np.array([projectPixel(Mint_2, p) for p in c2_3d_skel]) \n",
    "c2_pixel_wand = np.array([projectPixel(Mint_2, p) for p in c2_3d_wand])"
   ]
  },
  {
   "cell_type": "markdown",
   "metadata": {},
   "source": [
    "## Project 3D main/origin -> 3D pair -> 2D pair pixel \n",
    "1. First project from main/origin camera CCS to the selected pair camera's CCS (both 3D)\n",
    "2. Project 3D points in selected pair camera's CCS onto the 2D pixel plane"
   ]
  },
  {
   "cell_type": "code",
   "execution_count": null,
   "metadata": {},
   "outputs": [],
   "source": [
    "R = R3_initial\n",
    "t = T3_initial\n",
    "Mint_3 = cameraMatrix3\n",
    "\n",
    "points_internal_c3 = np.array([projectInternal(R, t, p) for p in points])\n",
    "c3_3d_skel = np.array([projectInternal(R, t, p) for p in c1_skel])   \n",
    "c3_3d_wand = np.array([projectInternal(R, t, p) for p in c1_wand])\n",
    "\n",
    "points_pixel_c3 = np.array([projectPixel(Mint_3, p) for p in points_internal_c3])\n",
    "c3_pixel_skel = np.array([projectPixel(Mint_3, p) for p in c3_3d_skel]) \n",
    "c3_pixel_wand = np.array([projectPixel(Mint_3, p) for p in c3_3d_wand])"
   ]
  }
 ],
 "metadata": {
  "language_info": {
   "name": "python"
  }
 },
 "nbformat": 4,
 "nbformat_minor": 2
}
